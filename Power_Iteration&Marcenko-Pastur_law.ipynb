{
 "cells": [
  {
   "cell_type": "markdown",
   "id": "40e6b368",
   "metadata": {},
   "source": [
    "# 2.1 Solution:"
   ]
  },
  {
   "cell_type": "code",
   "execution_count": 36,
   "id": "d11152ec",
   "metadata": {},
   "outputs": [],
   "source": [
    "import numpy as np \n",
    "import math\n",
    "\n",
    "def wishartM(n,k):\n",
    "    x = np.random.normal(loc=0, scale=math.sqrt(1/n), size=(n,k))\n",
    "    xT = x.transpose()\n",
    "    M = np.matmul(xT,x)\n",
    "    \n",
    "    return np.array(M)"
   ]
  },
  {
   "cell_type": "code",
   "execution_count": 37,
   "id": "4dd006fa",
   "metadata": {},
   "outputs": [
    {
     "data": {
      "text/plain": [
       "array([[ 1.00909551,  0.15866088, -0.31114138, -0.03264926,  0.04416556],\n",
       "       [ 0.15866088,  1.2720535 , -0.14970285, -0.55369773, -0.1087494 ],\n",
       "       [-0.31114138, -0.14970285,  0.55537143, -0.03414374, -0.17078931],\n",
       "       [-0.03264926, -0.55369773, -0.03414374,  1.42438512, -0.03166689],\n",
       "       [ 0.04416556, -0.1087494 , -0.17078931, -0.03166689,  0.48843378]])"
      ]
     },
     "execution_count": 37,
     "metadata": {},
     "output_type": "execute_result"
    }
   ],
   "source": [
    "M = wishartM(10,5)\n",
    "M"
   ]
  },
  {
   "cell_type": "markdown",
   "id": "fbb73398",
   "metadata": {},
   "source": [
    "# 2.2 Solution:"
   ]
  },
  {
   "cell_type": "code",
   "execution_count": 38,
   "id": "0c15dad6",
   "metadata": {},
   "outputs": [],
   "source": [
    "# Power Iteration to Find Largest Eigen Value and Eigen Vector\n",
    "import numpy as np\n",
    "import sys\n",
    "\n",
    "\n",
    "def power_iteration(M, itr, thr):\n",
    "    A = M\n",
    "    k = len(M)\n",
    "    x = np.zeros((k)).reshape(k,1) #kx1\n",
    "\n",
    "    #initialize x0 as norm 1 vector\n",
    "    for i in range(k):\n",
    "        x[i] = 1/math.sqrt(k) #kx1\n",
    "\n",
    "    # Reading tolerable error\n",
    "    tolerable_error = thr\n",
    "\n",
    "    # Reading maximum number of steps\n",
    "    max_iteration = itr \n",
    "    \n",
    "    # Power Method Implementation\n",
    "    condition =  True\n",
    "    step = 1\n",
    "    while condition:\n",
    "        \n",
    "        # Multiplying A (kxk) and x(kx1)\n",
    "        w = np.matmul(A,x) #kx1\n",
    "        \n",
    "        #Eigen Vector\n",
    "        xk = w/ np.linalg.norm(w)\n",
    "    \n",
    "        # Finding new Eigen value\n",
    "        \n",
    "        lambda_k = np.matmul(np.matmul(xk.transpose(),M),xk)    \n",
    "            \n",
    "    # Checking 1 iteration\n",
    "        step = step + 1\n",
    "        if step > max_iteration:\n",
    "            break \n",
    "            \n",
    "    # Calculating error\n",
    "        error = np.linalg.norm(xk - x) \n",
    "        x = xk\n",
    "        condition = error > tolerable_error \n",
    "        \n",
    "    return (lambda_k, xk)"
   ]
  },
  {
   "cell_type": "code",
   "execution_count": 39,
   "id": "15080096",
   "metadata": {},
   "outputs": [],
   "source": [
    "lambda1, eigVect1 = power_iteration(M, 100, 0.000000001)"
   ]
  },
  {
   "cell_type": "code",
   "execution_count": 40,
   "id": "974d62f6",
   "metadata": {},
   "outputs": [
    {
     "data": {
      "text/plain": [
       "array([[1.93679324]])"
      ]
     },
     "execution_count": 40,
     "metadata": {},
     "output_type": "execute_result"
    }
   ],
   "source": [
    "lambda1"
   ]
  },
  {
   "cell_type": "code",
   "execution_count": 41,
   "id": "5ca5dfd5",
   "metadata": {},
   "outputs": [
    {
     "data": {
      "text/plain": [
       "array([[ 0.16836775],\n",
       "       [ 0.66481282],\n",
       "       [-0.08984671],\n",
       "       [-0.72198692],\n",
       "       [-0.0184029 ]])"
      ]
     },
     "execution_count": 41,
     "metadata": {},
     "output_type": "execute_result"
    }
   ],
   "source": [
    "eigVect1"
   ]
  },
  {
   "cell_type": "markdown",
   "id": "bd7f2ddf",
   "metadata": {},
   "source": [
    "### 2.2 & 2.4 Solution verification (for reference only):"
   ]
  },
  {
   "cell_type": "code",
   "execution_count": 42,
   "id": "7729a92a",
   "metadata": {},
   "outputs": [
    {
     "data": {
      "text/plain": [
       "(array([1.93679324, 1.20350165, 0.25966969, 0.55393368, 0.79544106]),\n",
       " array([[ 0.16836774,  0.8005363 ,  0.22008046, -0.47399164,  0.24018837],\n",
       "        [ 0.66481282,  0.11071731,  0.21699186,  0.17754708, -0.68348896],\n",
       "        [-0.0898467 , -0.46158092,  0.71231683, -0.51629127, -0.07013324],\n",
       "        [-0.72198692,  0.34282173,  0.14686826,  0.099777  , -0.57417977],\n",
       "        [-0.0184029 ,  0.12766996,  0.61279162,  0.68359113,  0.37490174]]))"
      ]
     },
     "execution_count": 42,
     "metadata": {},
     "output_type": "execute_result"
    }
   ],
   "source": [
    "np.linalg.eig(M)"
   ]
  },
  {
   "cell_type": "markdown",
   "id": "e50ee880",
   "metadata": {},
   "source": [
    "#### In the above eigen vector matrix, each column represents the eigen vector of the corresponding eigen value."
   ]
  },
  {
   "cell_type": "markdown",
   "id": "f726d80d",
   "metadata": {},
   "source": [
    "# 2.4 Solution:"
   ]
  },
  {
   "cell_type": "code",
   "execution_count": 43,
   "id": "b6d5ab61",
   "metadata": {},
   "outputs": [],
   "source": [
    "def diagonalize(M,itr,thr):\n",
    "    lambda_k, xk = power_iteration(M, itr, thr)\n",
    "    eigen_vals = []\n",
    "    eigen_vex = []\n",
    "    eigen_vals.append(lambda_k.tolist()[0][0])\n",
    "    eigen_vex.append(xk)\n",
    "    Mold = M\n",
    "    for i in range(len(M)-1):\n",
    "        M_new = Mold - lambda_k*(np.matmul(xk,xk.transpose()))\n",
    "        Mold = M_new\n",
    "        lambda_k, xk = power_iteration(M_new, itr, thr)\n",
    "        eigen_vals.append(lambda_k.tolist()[0][0])\n",
    "        eigen_vex.append(xk)\n",
    "       \n",
    "    return [eigen_vals, np.array(eigen_vex).reshape(len(M), len(M))]"
   ]
  },
  {
   "cell_type": "code",
   "execution_count": 44,
   "id": "400093ca",
   "metadata": {},
   "outputs": [],
   "source": [
    "d = diagonalize(M,100,0.000000001)\n"
   ]
  },
  {
   "cell_type": "code",
   "execution_count": 45,
   "id": "1d43c1df",
   "metadata": {},
   "outputs": [
    {
     "name": "stdout",
     "output_type": "stream",
     "text": [
      "The ordered eigen values are as follows:\n",
      "[1.936793241801722, 1.2035016473131361, 0.7954410637181647, 0.5539336823616289, 0.2596696895582323]\n",
      "\n",
      "\n",
      "The corresponding eigen vectors are (consider the row values for each eigen vector): \n",
      "[[ 0.16836775  0.66481282 -0.08984671 -0.72198692 -0.0184029 ]\n",
      " [ 0.8005363   0.11071731 -0.46158092  0.34282174  0.12766996]\n",
      " [-0.24018837  0.68348896  0.07013324  0.57417977 -0.37490174]\n",
      " [ 0.47399164 -0.17754708  0.51629127 -0.099777   -0.68359113]\n",
      " [ 0.22008046  0.21699186  0.71231683  0.14686826  0.61279162]]\n"
     ]
    }
   ],
   "source": [
    "print(\"The ordered eigen values are as follows:\")\n",
    "print(d[0])\n",
    "print(\"\\n\")\n",
    "print(\"The corresponding eigen vectors are (consider the row values for each eigen vector): \")\n",
    "print(d[1])"
   ]
  },
  {
   "cell_type": "markdown",
   "id": "940a1f57",
   "metadata": {},
   "source": [
    "# 2.5 Solution:"
   ]
  },
  {
   "cell_type": "code",
   "execution_count": 80,
   "id": "69021298",
   "metadata": {},
   "outputs": [],
   "source": [
    "def generate_vals(n,k):\n",
    "    eigen_vals = []\n",
    "    for i in range(100):\n",
    "        M = wishartM(n,k)\n",
    "        eigen_value, eigen_vex= diagonalize(M,100,0.000000001)\n",
    "        eigen_vals.append(eigen_value)\n",
    "        \n",
    "    return eigen_vals"
   ]
  },
  {
   "cell_type": "code",
   "execution_count": 81,
   "id": "baa34ff9",
   "metadata": {},
   "outputs": [],
   "source": [
    "d1 = generate_vals(400,100)"
   ]
  },
  {
   "cell_type": "code",
   "execution_count": 82,
   "id": "708bf68f",
   "metadata": {},
   "outputs": [],
   "source": [
    "x1 = np.ndarray.flatten(np.array(d1))"
   ]
  },
  {
   "cell_type": "code",
   "execution_count": 83,
   "id": "4324c678",
   "metadata": {},
   "outputs": [
    {
     "data": {
      "text/plain": [
       "Text(0, 0.5, 'Frequency -->')"
      ]
     },
     "execution_count": 83,
     "metadata": {},
     "output_type": "execute_result"
    },
    {
     "data": {
      "image/png": "[encoded data removed]",
      "text/plain": [
       "<Figure size 640x480 with 1 Axes>"
      ]
     },
     "metadata": {},
     "output_type": "display_data"
    }
   ],
   "source": [
    "import matplotlib.pyplot as plt \n",
    "binwidth = 0.05\n",
    "plt.hist(x1, bins=np.arange(min(x1), max(x1) + binwidth, binwidth))\n",
    "plt.xlabel(\"Eigenvalues -->\")\n",
    "plt.ylabel(\"Frequency -->\")"
   ]
  },
  {
   "cell_type": "code",
   "execution_count": 84,
   "id": "1a875216",
   "metadata": {},
   "outputs": [],
   "source": [
    "d2 = generate_vals(200,100)"
   ]
  },
  {
   "cell_type": "code",
   "execution_count": 85,
   "id": "42f20f7a",
   "metadata": {},
   "outputs": [],
   "source": [
    "x2 = np.ndarray.flatten(np.array(d2))"
   ]
  },
  {
   "cell_type": "code",
   "execution_count": 86,
   "id": "cd1c788c",
   "metadata": {},
   "outputs": [
    {
     "data": {
      "text/plain": [
       "Text(0, 0.5, 'Frequency -->')"
      ]
     },
     "execution_count": 86,
     "metadata": {},
     "output_type": "execute_result"
    },
    {
     "data": {
      "image/png": "[encoded data removed]",
      "text/plain": [
       "<Figure size 640x480 with 1 Axes>"
      ]
     },
     "metadata": {},
     "output_type": "display_data"
    }
   ],
   "source": [
    "import matplotlib.pyplot as plt \n",
    "binwidth = 0.05\n",
    "plt.hist(x2, bins=np.arange(min(x2), max(x2) + binwidth, binwidth))\n",
    "plt.xlabel(\"Eigenvalues -->\")\n",
    "plt.ylabel(\"Frequency -->\")"
   ]
  },
  {
   "cell_type": "code",
   "execution_count": 87,
   "id": "5bf97659",
   "metadata": {},
   "outputs": [],
   "source": [
    "d3 = generate_vals(100,100)"
   ]
  },
  {
   "cell_type": "code",
   "execution_count": 88,
   "id": "57f7b4c4",
   "metadata": {},
   "outputs": [],
   "source": [
    "x3 = np.ndarray.flatten(np.array(d3))"
   ]
  },
  {
   "cell_type": "code",
   "execution_count": 89,
   "id": "bcbc4ae2",
   "metadata": {},
   "outputs": [
    {
     "data": {
      "text/plain": [
       "Text(0, 0.5, 'Frequency -->')"
      ]
     },
     "execution_count": 89,
     "metadata": {},
     "output_type": "execute_result"
    },
    {
     "data": {
      "image/png": "[encoded data removed]",
      "text/plain": [
       "<Figure size 640x480 with 1 Axes>"
      ]
     },
     "metadata": {},
     "output_type": "display_data"
    }
   ],
   "source": [
    "import matplotlib.pyplot as plt \n",
    "binwidth = 0.05\n",
    "plt.hist(x3, bins=np.arange(min(x3), max(x3) + binwidth, binwidth))\n",
    "plt.xlabel(\"Eigenvalues -->\")\n",
    "plt.ylabel(\"Frequency -->\")"
   ]
  },
  {
   "cell_type": "markdown",
   "id": "043d8543",
   "metadata": {},
   "source": [
    "### We observe that most of the eigenvalues for lower dimensions of X have a value close to 0. As we increase 'n', the eigenvalues drift away from 0."
   ]
  },
  {
   "cell_type": "code",
   "execution_count": null,
   "id": "0d9665f1",
   "metadata": {},
   "outputs": [],
   "source": []
  }
 ],
 "metadata": {
  "kernelspec": {
   "display_name": "Python 3 (ipykernel)",
   "language": "python",
   "name": "python3"
  },
  "language_info": {
   "codemirror_mode": {
    "name": "ipython",
    "version": 3
   },
   "file_extension": ".py",
   "mimetype": "text/x-python",
   "name": "python",
   "nbconvert_exporter": "python",
   "pygments_lexer": "ipython3",
   "version": "3.10.6"
  }
 },
 "nbformat": 4,
 "nbformat_minor": 5
}
